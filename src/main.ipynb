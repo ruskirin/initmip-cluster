{
 "cells": [
  {
   "cell_type": "code",
   "execution_count": 1,
   "id": "6054e6a4",
   "metadata": {},
   "outputs": [],
   "source": [
    "import site"
   ]
  },
  {
   "cell_type": "code",
   "execution_count": 3,
   "id": "b18f7750",
   "metadata": {},
   "outputs": [
    {
     "data": {
      "text/plain": [
       "['/home/rimov/anaconda3/envs/cmip/lib/python3.7/site-packages']"
      ]
     },
     "execution_count": 3,
     "metadata": {},
     "output_type": "execute_result"
    }
   ],
   "source": [
    "site.getsitepackages()"
   ]
  },
  {
   "cell_type": "code",
   "execution_count": null,
   "id": "7b6bf400",
   "metadata": {},
   "outputs": [],
   "source": [
    "from gh"
   ]
  }
 ],
 "metadata": {
  "kernelspec": {
   "display_name": "Python 3 (ipykernel)",
   "language": "python",
   "name": "python3"
  },
  "language_info": {
   "codemirror_mode": {
    "name": "ipython",
    "version": 3
   },
   "file_extension": ".py",
   "mimetype": "text/x-python",
   "name": "python",
   "nbconvert_exporter": "python",
   "pygments_lexer": "ipython3",
   "version": "3.7.7"
  }
 },
 "nbformat": 4,
 "nbformat_minor": 5
}
